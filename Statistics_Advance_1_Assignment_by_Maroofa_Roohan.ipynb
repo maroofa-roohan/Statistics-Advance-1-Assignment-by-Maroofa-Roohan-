{
  "nbformat": 4,
  "nbformat_minor": 0,
  "metadata": {
    "colab": {
      "provenance": []
    },
    "kernelspec": {
      "name": "python3",
      "display_name": "Python 3"
    },
    "language_info": {
      "name": "python"
    }
  },
  "cells": [
    {
      "cell_type": "code",
      "execution_count": 2,
      "metadata": {
        "id": "zRjQ_rEEmwsa"
      },
      "outputs": [],
      "source": [
        "#1. Explain the properties of the F-distribution.\n",
        "#Non-Negative: The F-distribution only takes positive values (from 0 to ∞) because it is based on the ratio of variances, which are always non-negative.\n",
        "#Right-Skewed: It is right-skewed, especially for small sample sizes; as the sample sizes increase, the distribution becomes less skewed.\n",
        "#Dependent on Degrees of Freedom: The shape of the F-distribution depends on two degrees of freedom, (numerator) and  (denominator), representing the sample sizes in the groups being compared.\n",
        "\n",
        "#7777Mean and Mode: The mean of an F-distribution is approximately equal to 𝑑2/(𝑑2−2)d 2​/(d 2​−2) for 𝑑2>2d 2 >2, and the mode occurs at# (𝑑1−2)/(𝑑1⋅𝑑2)(d 1−2)/(d 1⋅d 2) for 𝑑1>2d 1​>2.\n",
        "\n"
      ]
    },
    {
      "cell_type": "code",
      "source": [
        "#2. In which types of statistical tests is the F-distribution used, and why is it appropriate for these tests?\n",
        "#The F-distribution is used in:\n",
        "\n",
        "#ANOVA (Analysis of Variance): To test if there are significant differences among group means.\n",
        "#F-test for Equality of Variances: To compare the variances of two populations, assessing whether they are significantly different.\n",
        "#The F-distribution is appropriate because it is based on the ratio of sample variances. Since the F-distribution reflects how variance estimates compare across groups,\n",
        "#it is ideal for tests that assess differences in variability or group means."
      ],
      "metadata": {
        "id": "4WNpx6yHmyPd"
      },
      "execution_count": 3,
      "outputs": []
    },
    {
      "cell_type": "code",
      "source": [
        "#3. What are the key assumptions required for conducting an F-test to compare the variances of two populations?\n",
        "#Key assumptions for the F-test include:\n",
        "\n",
        "#Normality: Both populations should be normally distributed.\n",
        "#Independence: The samples must be independently drawn from each population.\n",
        "#Homogeneity of Variances: For ANOVA, variances across groups should be approximately equal, although slight deviations can be tolerated.\n",
        "#If these assumptions are violated, the results of the F-test may be invalid"
      ],
      "metadata": {
        "id": "pQk8KDFNp-id"
      },
      "execution_count": null,
      "outputs": []
    },
    {
      "cell_type": "code",
      "source": [
        "#4. What is the purpose of ANOVA, and how does it differ from a t-test?\n",
        "#Purpose of ANOVA: ANOVA tests whether there are significant differences among the means of three or more groups.\n",
        "#Difference from t-test: A t-test compares the means of only two groups, while ANOVA compares three or more. Unlike multiple t-tests, ANOVA controls the overall Type I error rate\n",
        "#, reducing the likelihood of false positives when multiple comparisons are made#."
      ],
      "metadata": {
        "id": "JRDiZJAyrIuG"
      },
      "execution_count": null,
      "outputs": []
    },
    {
      "cell_type": "code",
      "source": [
        "#5. Explain when and why you would use a one-way ANOVA instead of multiple t-tests when comparing more than two groups.\n",
        "#Use of One-Way ANOVA: When comparing three or more groups, we use a one-way ANOVA to test for overall differences in means.\n",
        "#Reason: Performing multiple t-tests increases the risk of Type I error (false positives) due to repeated testing. ANOVA tests all groups simultaneously,\n",
        "#maintaining the Type I error rate, which improves statistical reliability."
      ],
      "metadata": {
        "id": "u_VuuSWFrU2y"
      },
      "execution_count": null,
      "outputs": []
    },
    {
      "cell_type": "code",
      "source": [
        "#6. Explain how variance is partitioned in ANOVA into between-group variance and within-group variance. How does this partitioning contribute to the calculation of the F-statistic?\n",
        "#Between-Group Variance (SSB): Measures the variability due to the differences between the means of the groups. It reflects how much the group means deviate from the overall mean.\n",
        "#Within-Group Variance (SSW): Measures the variability within each group. It reflects how much individual scores vary within each group.\n",
        "#F-statistic Calculation: The F-statistic is calculated as the ratio of the mean square between groups (MSB) to the mean square within groups (MSW): 𝐹=MSB\\MSW\n",
        "#If the between-group variance is significantly larger than the within-group variance, it suggests that at least one group mean is different from the others, leading to a higher F-statistic.\n"
      ],
      "metadata": {
        "id": "_3bQGn3vrfv3"
      },
      "execution_count": null,
      "outputs": []
    },
    {
      "cell_type": "code",
      "source": [
        "#7. Compare the classical (frequentist) approach to ANOVA with the Bayesian approach. What are the key differences in terms of how they handle uncertainty, parameter estimation, and hypothesis testing?\n",
        "#Uncertainty: The frequentist approach treats parameters as fixed and focuses on the probability of observed data given null hypothesis assumptions. The Bayesian approach, however, uses prior distributions to express uncertainty about parameters and updates this with observed data.\n",
        "#Parameter Estimation: Frequentist ANOVA estimates parameters by maximizing likelihood functions, while Bayesian ANOVA updates prior beliefs based on observed data to create posterior distributions of parameters.\n",
        "#Hypothesis Testing: In the frequentist approach, hypothesis testing involves rejecting or failing to reject a null hypothesis based on p-values. Bayesian analysis, however, provides a probability for each hypothesis, often making inferences about the probability of effects being meaningful.\n"
      ],
      "metadata": {
        "id": "fuo2ErqMr8KP"
      },
      "execution_count": null,
      "outputs": []
    },
    {
      "cell_type": "code",
      "source": [
        "#8. Question: You have two sets of data representing the incomes of two different professions:\n",
        "#Profession A: [48, 52, 55, 60, 62]\n",
        "#Profession B: [45, 50, 55, 52, 47]\n",
        "#Perform an F-test to determine if the variances of the two professions' incomes are equal. What are your conclusions based on the F-test?\n",
        "\n",
        "import numpy as np\n",
        "import scipy.stats as stats\n",
        "\n",
        "# Data for Profession A and B\n",
        "profession_a = [48, 52, 55, 60, 62]\n",
        "profession_b = [45, 50, 55, 52, 47]\n",
        "\n",
        "# Calculate the variances of each profession's income\n",
        "var_a = np.var(profession_a, ddof=1)\n",
        "var_b = np.var(profession_b, ddof=1)\n",
        "\n",
        "# Calculate the F-statistic\n",
        "f_statistic = var_a / var_b\n",
        "\n",
        "# Degrees of freedom for each profession\n",
        "df1 = len(profession_a) - 1\n",
        "df2 = len(profession_b) - 1\n",
        "\n",
        "# Calculate the p-value using the cumulative distribution function (CDF) of the F-distribution\n",
        "p_value = 1 - stats.f.cdf(f_statistic, df1, df2)  # Use 1 - CDF for the upper tail\n",
        "\n",
        "f_statistic, p_value\n",
        "\n"
      ],
      "metadata": {
        "colab": {
          "base_uri": "https://localhost:8080/"
        },
        "id": "yTNtMr2PvfEI",
        "outputId": "1eebd02c-5406-4841-ffd3-958d2da898db"
      },
      "execution_count": 5,
      "outputs": [
        {
          "output_type": "execute_result",
          "data": {
            "text/plain": [
              "(2.089171974522293, 0.24652429950266952)"
            ]
          },
          "metadata": {},
          "execution_count": 5
        }
      ]
    },
    {
      "cell_type": "code",
      "source": [
        "#9. Conduct a one-way ANOVA to test whether there are any statistically significant differences in average heights between three different regions with the following data:\n",
        "#Region A: [160, 162, 165, 158, 164]\n",
        "#Region B: [172, 175, 170, 168, 174]\n",
        "#Region C: [180, 182, 179, 185, 183]\n",
        "\n",
        "\n",
        "import scipy.stats as stats\n",
        "\n",
        "# Data\n",
        "region_a = [160, 162, 165, 158, 164]\n",
        "region_b = [172, 175, 170, 168, 174]\n",
        "region_c = [180, 182, 179, 185, 183]\n",
        "\n",
        "# Perform one-way ANOVA\n",
        "f_statistic, p_value = stats.f_oneway(region_a, region_b, region_c)\n",
        "\n",
        "f_statistic, p_value\n",
        "#Interpretation:\n",
        "#If the p-value is less than the chosen significance level (e.g., 0.05), we reject the null hypothesis, suggesting that there is a statistically significant difference in average heights between at least two of the regions.\n",
        "\n",
        "\n"
      ],
      "metadata": {
        "colab": {
          "base_uri": "https://localhost:8080/"
        },
        "id": "lnELeVEfv2Z-",
        "outputId": "0c5df55d-03a6-4f68-ddf5-fca2c241cfde"
      },
      "execution_count": 6,
      "outputs": [
        {
          "output_type": "execute_result",
          "data": {
            "text/plain": [
              "(67.87330316742101, 2.870664187937026e-07)"
            ]
          },
          "metadata": {},
          "execution_count": 6
        }
      ]
    },
    {
      "cell_type": "code",
      "source": [],
      "metadata": {
        "id": "sTBPyQctwq-r"
      },
      "execution_count": null,
      "outputs": []
    }
  ]
}